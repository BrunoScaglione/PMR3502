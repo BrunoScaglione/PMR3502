{
 "cells": [
  {
   "cell_type": "markdown",
   "id": "0350bd65-be68-4a47-8a5f-568d03fe60b8",
   "metadata": {},
   "source": [
    "## Libraries and data"
   ]
  },
  {
   "cell_type": "code",
   "execution_count": 1,
   "id": "153a83d4-9a42-49d6-9091-40b57ec2b6f4",
   "metadata": {},
   "outputs": [],
   "source": [
    "import numpy as np\n",
    "import numpy.linalg as LA\n",
    "\n",
    "data = np.genfromtxt('./data/valores.csv', delimiter=',')"
   ]
  },
  {
   "cell_type": "markdown",
   "id": "88db41c5-ded6-4a2e-ba30-041c934b4a2b",
   "metadata": {},
   "source": [
    "## Global parameters"
   ]
  },
  {
   "cell_type": "code",
   "execution_count": 3,
   "id": "cecbaf56-4c68-4c5b-9df7-dbd61dbf53f1",
   "metadata": {},
   "outputs": [],
   "source": [
    "l = 0.3\n",
    "h = 0.5\n",
    "dt = 0.25\n",
    "t_end = 250\n",
    "n_steps = int(t_end/dt)\n",
    "init_sigma = np.zeros((5, 5))\n",
    "init_sigma[3,3] = 10\n",
    "init_sigma[4,4] = 10\n",
    "init_state = np.zeros((5,1))"
   ]
  },
  {
   "cell_type": "markdown",
   "id": "8c95f854-27f7-4ffc-886b-6eff1a135976",
   "metadata": {},
   "source": [
    "## Auxiliary Functions"
   ]
  },
  {
   "cell_type": "code",
   "execution_count": 40,
   "id": "4d6f90b6-63a2-4126-827f-201c45e13527",
   "metadata": {},
   "outputs": [],
   "source": [
    "def jacobian(X: np.array, u: np.array, which: str) -> np.array:\n",
    "    '''\n",
    "    Calculados analiticamente.\n",
    "    '''    \n",
    "    if which=='A':\n",
    "        ddx = (-u[1]*np.sin(X[2])*dt)[0]\n",
    "        ddy = (u[1]*np.cos(X[2])*dt)[0]\n",
    "        J = [\n",
    "            [1, 0, ddx, 0, 0],\n",
    "            [0, 1, ddy, 0, 0],\n",
    "            [0, 0, 1, 0, 0],\n",
    "            [0, 0, 0, 1, 0],\n",
    "            [0, 0, 0, 0, 1]\n",
    "        ]\n",
    "    elif which=='C':\n",
    "        sin = np.sin(x_prev[2])[0]\n",
    "        cos = np.cos(x_pre[2])[0]\n",
    "        J = [\n",
    "            [X[0]/np.sqrt(X[0]**2 + X[1]**2 + h**2), X[1]/np.sqrt(X[0]**2 + X[1]**2 + h**2), 0, 0, 0],\n",
    "            [0, 0, -x_prev[3]*sin + x_prev[4]*cos, cos, sin],\n",
    "            [0, 0, -x_prev[3]*cos - x_prev[4]*sin, -sin, cos]\n",
    "        ]\n",
    "        \n",
    "    return np.array(J)\n",
    "\n",
    "def F(X_prev: np.array, u_prev: np.array) -> np.array:\n",
    "    '''\n",
    "    Calculada analiticamente.\n",
    "    '''\n",
    "    return np.array([\n",
    "        X_prev[0] + u_prev[0] * np.cos(X_prev[2]) * dt,\n",
    "        X_prev[1] + u_prev[0] * np.sin(X_prev[2]) * dt,\n",
    "        X_prev[2] + u_prev[0] * dt * np.tan(u_prev[1])/ l,\n",
    "        X_prev[3],\n",
    "        X_prev[4]\n",
    "    ])\n",
    "\n",
    "def Q(x_prev):\n",
    "    sf, se = 0.25, 0.25\n",
    "    srho = (h**2 + x_prev[0]**2 + x_prev[1]**2) / 20**2\n",
    "    return np.array([\n",
    "        [srho, 0, 0],\n",
    "        [0, sf, 0],\n",
    "        [0, 0, se]\n",
    "    ])\n",
    "\n",
    "def R(x_prev, u):\n",
    "    cos = np.cos(x_prev[2])[0]\n",
    "    sin = np.sin(x_prev[2])[0]\n",
    "    M =  np.array([\n",
    "        [cos, -sin, 0, 0, 0],\n",
    "        [sin,  cos, 0, 0, 0],\n",
    "        [0, 0, 1, 0, 0],\n",
    "        [0, 0, 0, 1, 0],\n",
    "        [0, 0, 0, 0, 1]\n",
    "    ])\n",
    "    \n",
    "    sl = (dt * u[0] / 6)**2\n",
    "    sr = (dt * u[0] / 12)**2\n",
    "    stheta = (dt * u[0] / (8*l))**2\n",
    "    \n",
    "    # Matriz R no referencial local\n",
    "    Rl = np.array([\n",
    "        [sl, 0, 0, 0, 0],\n",
    "        [0, sr, 0, 0, 0],\n",
    "        [0, 0, stheta, 0, 0],\n",
    "        [0, 0, 0, 0, 0],\n",
    "        [0, 0, 0, 0, 0]\n",
    "    ])\n",
    "    \n",
    "    return M @ Rl @ M.T\n",
    "\n",
    "def G(x_prev):\n",
    "    sin = np.sin(x_prev[2])[0]\n",
    "    cos = np.cos(x_pre[2])[0]    \n",
    "    return np.array([\n",
    "        [np.sqrt(x_prev[0]**2 + x_prev[1]**2 + h**2)],\n",
    "        [( x_prev[3] * cos + x_prev[4] * sin)],\n",
    "        [(-x_prev[3] * sin + x_prev[4] * cos)]\n",
    "    ])"
   ]
  },
  {
   "cell_type": "markdown",
   "id": "72b67a80-12cc-4c37-9878-3bfc6647d08f",
   "metadata": {},
   "source": [
    "## EKF\n",
    "\n",
    "Implementação do Filtro de Kalman extendido"
   ]
  },
  {
   "cell_type": "code",
   "execution_count": 41,
   "id": "d35144a6-905f-4bb2-a502-cb7eac0d8abc",
   "metadata": {},
   "outputs": [],
   "source": [
    "class EKF:\n",
    "    def __init__(self, f, g, x_est, Sigma_est, Q, R, data):\n",
    "        '''EKF(f, h, x0, u0)\n",
    "\n",
    "        x' = f(x, u)    state transition function\n",
    "        z' = g(x)       observation function\n",
    "        x0              initial state estimate\n",
    "        Sigma0          initial cov matrix estimate\n",
    "        Q               stochastic matrix for observation\n",
    "        R               stochastic matrix for state'''\n",
    "        self.f, self.g = f, g\n",
    "        self.x = np.array(x_est)\n",
    "        self.I = np.eye(len(x_est))\n",
    "        self.Sigma = Sigma_est\n",
    "        self.Q, self.R = Q, R\n",
    "        self.u = data[:,:2]\n",
    "        self.z = data[:,2:]\n",
    "    \n",
    "    def predict(self, t: int):\n",
    "        self.x = self.f(self.x, self.u[t])\n",
    "        A = jacobian(X=self.x, u=self.u[t], which='A')\n",
    "        self.Sigma = (A @ self.Sigma @ A.T) + self.R(self.x, self.u[t])\n",
    "#         print(self.Sigma)\n",
    "\n",
    "    def update(self, t: int):\n",
    "        x, Sigma, Q, I, g, z = self.x, self.Sigma, self.Q, self.I, self.g, self.z\n",
    "        C = jacobian(X=x, u=z[t], which='C')\n",
    "        y = z[t] - g(x)\n",
    "        S = (C @ Sigma @ C.T) + Q(x)\n",
    "        K = Sigma @ C.T @ LA.inv(S)\n",
    "        self.x += K @ y\n",
    "        self.Sigma = (I - K @ C) @ Sigma"
   ]
  },
  {
   "cell_type": "markdown",
   "id": "f7062b23-697c-4bf0-8a3e-f65d1d1148ff",
   "metadata": {},
   "source": [
    "## Questão 04\n",
    "\n",
    "Como nessa etapa não são consideradas as medições, o filtro de Kalman se reduz à parte de predição."
   ]
  },
  {
   "cell_type": "code",
   "execution_count": 42,
   "id": "aacea9e6-8ea3-49d6-a18a-8545eb8bd774",
   "metadata": {},
   "outputs": [],
   "source": [
    "ekf = EKF(F, G, init_state, init_sigma, Q, R, data)\n",
    "for t in range(n_steps):\n",
    "    ekf.predict(t)"
   ]
  },
  {
   "cell_type": "code",
   "execution_count": 43,
   "id": "0b815de1-c024-4d2d-b414-24aeada81856",
   "metadata": {},
   "outputs": [
    {
     "data": {
      "text/plain": [
       "array([[ 3.07422492, -1.15359092,  3.75268398,  0.        ,  0.        ],\n",
       "       [-1.15359092,  1.31431797, -1.3745781 ,  0.        ,  0.        ],\n",
       "       [ 3.75268398, -1.3745781 ,  6.51041667,  0.        ,  0.        ],\n",
       "       [ 0.        ,  0.        ,  0.        , 10.        ,  0.        ],\n",
       "       [ 0.        ,  0.        ,  0.        ,  0.        , 10.        ]])"
      ]
     },
     "execution_count": 43,
     "metadata": {},
     "output_type": "execute_result"
    }
   ],
   "source": [
    "ekf.Sigma"
   ]
  },
  {
   "cell_type": "markdown",
   "id": "ada0a156-e3e2-40b8-b4ba-321302276339",
   "metadata": {},
   "source": [
    "## Questão 05"
   ]
  },
  {
   "cell_type": "code",
   "execution_count": null,
   "id": "34b177a4-1f2d-4bdd-9d39-8d5d37b2d4b8",
   "metadata": {},
   "outputs": [],
   "source": []
  }
 ],
 "metadata": {
  "kernelspec": {
   "display_name": "Python 3",
   "language": "python",
   "name": "python3"
  },
  "language_info": {
   "codemirror_mode": {
    "name": "ipython",
    "version": 3
   },
   "file_extension": ".py",
   "mimetype": "text/x-python",
   "name": "python",
   "nbconvert_exporter": "python",
   "pygments_lexer": "ipython3",
   "version": "3.8.8"
  }
 },
 "nbformat": 4,
 "nbformat_minor": 5
}
