{
 "cells": [
  {
   "cell_type": "code",
   "execution_count": 1,
   "id": "64dfcd74-a15a-4436-bf0d-509728aa73f9",
   "metadata": {},
   "outputs": [],
   "source": [
    "import numpy as np\n",
    "import numpy.linalg as LA"
   ]
  },
  {
   "cell_type": "code",
   "execution_count": 2,
   "id": "c694912e-0952-4722-bd89-2db0c122a8a3",
   "metadata": {},
   "outputs": [],
   "source": [
    "srho = 0.25**2\n",
    "spsi = 0.0436**2\n",
    "alpha = 0.05"
   ]
  },
  {
   "cell_type": "markdown",
   "id": "cc299709-5d01-4cf9-941d-3937f2aa257b",
   "metadata": {},
   "source": [
    "## Questão 1"
   ]
  },
  {
   "cell_type": "code",
   "execution_count": 3,
   "id": "92849adf-a612-4960-ae1a-232222db5b00",
   "metadata": {},
   "outputs": [],
   "source": [
    "def lp2lc(coords) -> np.array:\n",
    "    rho, psi = coords\n",
    "    return np.array([\n",
    "        [rho*np.cos(psi)],\n",
    "        [rho*np.sin(psi)],\n",
    "    ])\n",
    "\n",
    "def Q_lp2lc(obs) -> np.array:\n",
    "    [rho, psi] = obs\n",
    "    return np.array([\n",
    "        [rho**2 * spsi * np.sin(psi)**2 + srho * np.cos(psi)**2, -0.5*(rho**2 * spsi+srho)*np.sin(2*psi)],\n",
    "        [-0.5*(rho**2 * spsi+srho)*np.sin(2*psi), rho**2 * spsi * np.cos(psi)**2 + srho * np.sin(psi)**2]\n",
    "    ])"
   ]
  },
  {
   "cell_type": "markdown",
   "id": "301da866-7a10-48bc-b618-acfb3eb648d1",
   "metadata": {},
   "source": [
    "## Questão 2"
   ]
  },
  {
   "cell_type": "code",
   "execution_count": 4,
   "id": "ef2ecba2-6456-48c9-9b45-2219fec07297",
   "metadata": {},
   "outputs": [],
   "source": [
    "def R_lc2g(theta: float) -> np.array:\n",
    "    return np.array([\n",
    "            [ np.cos(theta),-np.sin(theta)],\n",
    "            [ np.sin(theta), np.cos(theta)]\n",
    "    ])\n",
    "\n",
    "def A_lc2g(robot: np.array) -> np.array:\n",
    "    x, y, theta = robot\n",
    "    return np.array([\n",
    "        [ np.cos(theta), -np.sin(theta), x],\n",
    "        [ np.sin(theta), np.cos(theta), y],\n",
    "        [0, 0, 1]\n",
    "    ])\n",
    "\n",
    "def lc2g(coords_lc: np.array, robot: np.array) -> np.array:\n",
    "    return (A_lc2g(robot) @ np.array([[coords_lc[0]], [coords_lc[1]], [1]]))[:2]\n",
    "\n",
    "def Q_lc2g(theta: float, Q_lc: np.array) -> np.array:\n",
    "    return R_lc2g(theta) @ Q_lc @ R_lc2g(theta).T"
   ]
  },
  {
   "cell_type": "markdown",
   "id": "57969609-ba18-4ae0-8ea7-7258e3b271b3",
   "metadata": {},
   "source": [
    "## Questão 3"
   ]
  },
  {
   "cell_type": "code",
   "execution_count": 5,
   "id": "46443f4f-7072-47a4-81bb-9793cef99b0e",
   "metadata": {},
   "outputs": [],
   "source": [
    "def g2lc(coords_g: np.array, robot: np.array) -> np.array:\n",
    "    A_g2lc = LA.inv(A_lc2g(robot))\n",
    "    gx, gy = coords_g\n",
    "    return (A_g2lc @ np.array([[gx], [gy], [1]]))[:2]\n",
    "\n",
    "def C(theta):\n",
    "    return R_lc2g(theta).T\n",
    "\n",
    "def lc2lp(coords_lc: np.array) -> np.array:\n",
    "    l, r = coords_lc\n",
    "    return np.array([\n",
    "        [np.sqrt(l**2+r**2)],\n",
    "        [np.arctan2(r,l)]\n",
    "    ])"
   ]
  },
  {
   "cell_type": "markdown",
   "id": "36fd1bd9-5615-4ee7-9b60-ad0f86205b97",
   "metadata": {},
   "source": [
    "## Questão 4"
   ]
  },
  {
   "cell_type": "code",
   "execution_count": 6,
   "id": "62fbd9b6-b523-479f-87a2-c461bfe27dba",
   "metadata": {},
   "outputs": [],
   "source": [
    "def check_sensor(x: float, y: float, theta_robot: float = np.pi/6) -> bool:\n",
    "    print(f'X: {x}   Y: {y}')\n",
    "    D_MAX = 3\n",
    "    ANG_MAX = np.pi/3\n",
    "    x_robot = 1\n",
    "    y_robot = 2\n",
    "    l, r = g2lc([x,y], [x_robot, y_robot, theta_robot])\n",
    "    rho, psi = lc2lp([l,r])\n",
    "    print(rho,psi)\n",
    "    \n",
    "    if rho <= D_MAX and (-ANG_MAX <= psi) and (psi <= ANG_MAX):\n",
    "        print(True,'\\n')\n",
    "    else:\n",
    "        print(False,'\\n')"
   ]
  },
  {
   "cell_type": "code",
   "execution_count": 7,
   "id": "224b283d-1faf-4255-8222-261640c15520",
   "metadata": {},
   "outputs": [
    {
     "name": "stdout",
     "output_type": "stream",
     "text": [
      "X: 3   Y: 4\n",
      "[[2.82842712]] [[0.26179939]]\n",
      "True \n",
      "\n"
     ]
    }
   ],
   "source": [
    "check_sensor(3,4)"
   ]
  },
  {
   "cell_type": "markdown",
   "id": "3411edb5-85e1-4541-97c0-672caf57a500",
   "metadata": {},
   "source": [
    "## Questão 5"
   ]
  },
  {
   "cell_type": "code",
   "execution_count": 8,
   "id": "74c2990b-68aa-4716-bb6e-756a9a790f86",
   "metadata": {},
   "outputs": [
    {
     "name": "stdout",
     "output_type": "stream",
     "text": [
      "[[3.]\n",
      " [0.]]\n",
      "[[ 3.19399268]\n",
      " [-2.40798895]]\n",
      "[[1.30656296]\n",
      " [0.5411961 ]]\n"
     ]
    }
   ],
   "source": [
    "z1 = [3, 0]\n",
    "z2 = [4, -0.646] \n",
    "z3 = [np.sqrt(2), np.pi/8]\n",
    "Z = [z1,z2,z3]\n",
    "Z = np.array(Z)\n",
    "for z in Z:\n",
    "    print(lp2lc(z))"
   ]
  },
  {
   "cell_type": "code",
   "execution_count": 9,
   "id": "0309c0ed-1337-42ef-b2a4-c8deffa97787",
   "metadata": {},
   "outputs": [],
   "source": [
    "data = np.genfromtxt('./data/valoresEP2.csv', delimiter=',')"
   ]
  },
  {
   "cell_type": "code",
   "execution_count": 10,
   "id": "d22efb3d-5221-4783-84d2-860601cf2cdf",
   "metadata": {},
   "outputs": [],
   "source": [
    "observations = data[:,2:]"
   ]
  },
  {
   "cell_type": "code",
   "execution_count": 14,
   "id": "a416896a-88f5-4e6d-a9fa-b4852f13cf40",
   "metadata": {},
   "outputs": [],
   "source": [
    "def Lj(land, obs, robot_t):\n",
    "    '''\n",
    "    land = [mu, sigma]\n",
    "    mu = [x_bar, y_bar]\n",
    "    obs = [rho, psi]\n",
    "    '''\n",
    "    return C(robot_t[2]) @ land['sigma'] @ C(robot_t[2]).T + Q_lp2lc(obs)\n",
    "    \n",
    "def W(observations_t, landmarks, robot_t):\n",
    "    '''\n",
    "    Observations = todas as obs de um mesmo timestamp\n",
    "    '''\n",
    "    m = len(landmarks)\n",
    "    n = len(observations_t)\n",
    "    W = np.empty((n,m))\n",
    "    for i, obs in enumerate(observations_t):\n",
    "#         p_obs = np.empty(m)\n",
    "        for j, land in enumerate(landmarks):\n",
    "            d = lp2lc(obs) - g2lc(land['mu'], robot_t)\n",
    "            L = Lj(land, obs, robot_t)\n",
    "            W[i][j] = 1 / np.sqrt(2*np.pi*LA.det(L)) * np.exp(-(d.T @ LA.inv(L) @ d)/2)\n",
    "        \n",
    "    return W"
   ]
  },
  {
   "cell_type": "markdown",
   "id": "06cd06a1-df31-45e6-8480-9fbc3a198b4e",
   "metadata": {},
   "source": [
    "$$M=\\left\\{\\left\\{\\left[\\begin{array}{l}\n",
    "2 \\\\\n",
    "1\n",
    "\\end{array}\\right],\\left[\\begin{array}{cc}\n",
    "1 / 9 & 0 \\\\\n",
    "0 & 1\n",
    "\\end{array}\\right]\\right\\}\\right\\},\\left\\{\\left\\{\\left[\\begin{array}{c}\n",
    "3 \\\\\n",
    "-1\n",
    "\\end{array}\\right],\\left[\\begin{array}{ll}\n",
    "5 / 9 & 4 / 9 \\\\\n",
    "5 / 9 & 4 / 8\n",
    "\\end{array}\\right]\\right\\},\\left\\{\\left[\\begin{array}{c}\n",
    "5 / 2 \\\\\n",
    "2\n",
    "\\end{array}\\right],\\left[\\begin{array}{cc}\n",
    "1 / 9 & 0 \\\\\n",
    "0 & 1\n",
    "\\end{array}\\right]\\right\\}\\right\\}$$"
   ]
  },
  {
   "cell_type": "code",
   "execution_count": 12,
   "id": "8de8351e-f268-4c37-8882-787870bf184d",
   "metadata": {},
   "outputs": [],
   "source": [
    "robot_t = np.array([4, 3, np.pi/2])\n",
    "landmarks = [\n",
    "    [[2,1], [[1/9,0],\n",
    "             [0,1.]]],\n",
    "    [[3,-1], [[5/9,4/9],\n",
    "              [5/9,4/8.]]],\n",
    "    [[5/2,2], [[1/9,0],\n",
    "             [0,1.]]],    \n",
    "]\n",
    "landmarks = [{'mu':np.array(l[0]), 'sigma':np.array(l[1])} for l in landmarks]"
   ]
  },
  {
   "cell_type": "code",
   "execution_count": 15,
   "id": "05f342e1-c7ed-47fe-9377-c8798a1139de",
   "metadata": {},
   "outputs": [
    {
     "data": {
      "text/plain": [
       "array([[1.41318828e-12, 5.40098041e-63, 8.98021412e-08],\n",
       "       [4.64536733e-37, 9.71899186e-27, 2.47978685e-28],\n",
       "       [2.53383637e-06, 7.50504663e-68, 3.12119160e-03]])"
      ]
     },
     "execution_count": 15,
     "metadata": {},
     "output_type": "execute_result"
    }
   ],
   "source": [
    "W(Z, landmarks, robot_t)"
   ]
  },
  {
   "cell_type": "code",
   "execution_count": null,
   "id": "72feb8b8-440b-4b67-a1e1-9e91d722ab87",
   "metadata": {},
   "outputs": [],
   "source": []
  }
 ],
 "metadata": {
  "kernelspec": {
   "display_name": "Python 3",
   "language": "python",
   "name": "python3"
  },
  "language_info": {
   "codemirror_mode": {
    "name": "ipython",
    "version": 3
   },
   "file_extension": ".py",
   "mimetype": "text/x-python",
   "name": "python",
   "nbconvert_exporter": "python",
   "pygments_lexer": "ipython3",
   "version": "3.8.8"
  }
 },
 "nbformat": 4,
 "nbformat_minor": 5
}
