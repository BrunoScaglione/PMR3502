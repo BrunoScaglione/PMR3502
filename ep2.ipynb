{
 "cells": [
  {
   "cell_type": "code",
   "execution_count": 1,
   "id": "64dfcd74-a15a-4436-bf0d-509728aa73f9",
   "metadata": {},
   "outputs": [],
   "source": [
    "import numpy as np\n",
    "import numpy.linalg as LA"
   ]
  },
  {
   "cell_type": "code",
   "execution_count": 2,
   "id": "c694912e-0952-4722-bd89-2db0c122a8a3",
   "metadata": {},
   "outputs": [],
   "source": [
    "srho = 0.25**2\n",
    "spsi = 0.0436**2\n",
    "alpha = 0.05"
   ]
  },
  {
   "cell_type": "markdown",
   "id": "cc299709-5d01-4cf9-941d-3937f2aa257b",
   "metadata": {},
   "source": [
    "## Questão 1"
   ]
  },
  {
   "cell_type": "code",
   "execution_count": 3,
   "id": "92849adf-a612-4960-ae1a-232222db5b00",
   "metadata": {},
   "outputs": [],
   "source": [
    "def lp2lc(coords) -> np.array:\n",
    "    rho, psi = coords\n",
    "    return np.array([\n",
    "        [rho*np.cos(psi)],\n",
    "        [rho*np.sin(psi)],\n",
    "    ])\n",
    "\n",
    "def Q_lp2lc(obs) -> np.array:\n",
    "    rho, psi = obs\n",
    "    return np.array([\n",
    "        [rho**2 * spsi * np.sin(psi)**2 + srho * np.cos(psi)**2, 0.5*(-rho**2 * spsi + srho)*np.sin(2*psi)],\n",
    "        [0.5*(-rho**2 * spsi + srho)*np.sin(2*psi), rho**2 * spsi * np.cos(psi)**2 + srho * np.sin(psi)**2]\n",
    "    ])"
   ]
  },
  {
   "cell_type": "markdown",
   "id": "301da866-7a10-48bc-b618-acfb3eb648d1",
   "metadata": {},
   "source": [
    "## Questão 2"
   ]
  },
  {
   "cell_type": "code",
   "execution_count": 4,
   "id": "ef2ecba2-6456-48c9-9b45-2219fec07297",
   "metadata": {},
   "outputs": [],
   "source": [
    "def R_lc2g(theta: float) -> np.array:\n",
    "    '''\n",
    "    Rotation matrix from Local Cartesiano to Global\n",
    "    '''\n",
    "    return np.array([\n",
    "            [ np.cos(theta),-np.sin(theta)],\n",
    "            [ np.sin(theta), np.cos(theta)]\n",
    "    ])\n",
    "\n",
    "def A_lc2g(robot: np.array) -> np.array:\n",
    "    '''\n",
    "    Homogenous matrix from Local Cartesiano to Global\n",
    "    '''    \n",
    "    x, y, theta = robot\n",
    "    return np.array([\n",
    "        [ np.cos(theta), -np.sin(theta), x],\n",
    "        [ np.sin(theta), np.cos(theta), y],\n",
    "        [0, 0, 1]\n",
    "    ])\n",
    "\n",
    "def lc2g(coords_lc: np.array, robot: np.array) -> np.array:\n",
    "    x_lc, y_lc = coords_lc\n",
    "    return (A_lc2g(robot) @ np.array([[x_lc[0]], [y_lc[0]], [1]]))[:2]\n",
    "\n",
    "def Q_lc2g(theta: float, Q_lc: np.array) -> np.array:\n",
    "    return R_lc2g(theta) @ Q_lc @ R_lc2g(theta).T"
   ]
  },
  {
   "cell_type": "markdown",
   "id": "57969609-ba18-4ae0-8ea7-7258e3b271b3",
   "metadata": {},
   "source": [
    "## Questão 3"
   ]
  },
  {
   "cell_type": "code",
   "execution_count": 5,
   "id": "46443f4f-7072-47a4-81bb-9793cef99b0e",
   "metadata": {},
   "outputs": [],
   "source": [
    "def g2lc(coords_g: np.array, robot: np.array) -> np.array:\n",
    "    A_g2lc = LA.inv(A_lc2g(robot))\n",
    "    gx, gy = coords_g\n",
    "    return (A_g2lc @ np.array([[gx], [gy], [1]]))[:2]\n",
    "\n",
    "def C(theta):\n",
    "    return R_lc2g(theta).T\n",
    "\n",
    "def lc2lp(coords_lc: np.array) -> np.array:\n",
    "    l, r = coords_lc\n",
    "    return np.array([\n",
    "        [np.sqrt(l**2+r**2)],\n",
    "        [np.arctan2(r,l)]\n",
    "    ])"
   ]
  },
  {
   "cell_type": "markdown",
   "id": "36fd1bd9-5615-4ee7-9b60-ad0f86205b97",
   "metadata": {},
   "source": [
    "## Questão 4"
   ]
  },
  {
   "cell_type": "code",
   "execution_count": 6,
   "id": "62fbd9b6-b523-479f-87a2-c461bfe27dba",
   "metadata": {},
   "outputs": [],
   "source": [
    "def check_sensor(x: float, y: float, theta_robot: float = np.pi/6) -> bool:\n",
    "    print(f'X: {x}   Y: {y}')\n",
    "    D_MAX = 3\n",
    "    ANG_MAX = np.pi/3\n",
    "    x_robot = 1\n",
    "    y_robot = 2\n",
    "    l, r = g2lc([x,y], [x_robot, y_robot, theta_robot])\n",
    "    rho, psi = lc2lp([l,r])\n",
    "    print(rho,psi)\n",
    "    \n",
    "    if rho <= D_MAX and (-ANG_MAX <= psi) and (psi <= ANG_MAX):\n",
    "        print(True,'\\n')\n",
    "    else:\n",
    "        print(False,'\\n')"
   ]
  },
  {
   "cell_type": "code",
   "execution_count": 7,
   "id": "224b283d-1faf-4255-8222-261640c15520",
   "metadata": {},
   "outputs": [
    {
     "name": "stdout",
     "output_type": "stream",
     "text": [
      "X: 2   Y: 2\n",
      "[[1.]] [[-0.52359878]]\n",
      "True \n",
      "\n"
     ]
    }
   ],
   "source": [
    "check_sensor(2,2)"
   ]
  },
  {
   "cell_type": "markdown",
   "id": "3411edb5-85e1-4541-97c0-672caf57a500",
   "metadata": {},
   "source": [
    "## Questão 5"
   ]
  },
  {
   "cell_type": "code",
   "execution_count": 8,
   "id": "a416896a-88f5-4e6d-a9fa-b4852f13cf40",
   "metadata": {},
   "outputs": [],
   "source": [
    "def Lj(land, obs, robot_t):\n",
    "    '''\n",
    "    land = [mu, sigma]\n",
    "    mu = [x_bar, y_bar]\n",
    "    obs = [rho, psi]\n",
    "    '''\n",
    "    return C(robot_t[2]) @ land['sigma'] @ C(robot_t[2]).T + Q_lp2lc(obs)\n",
    "    \n",
    "def W(observations_t, landmarks, robot_t):\n",
    "    '''\n",
    "    Observations = todas as obs de um mesmo timestamp\n",
    "    '''\n",
    "    m = len(landmarks)\n",
    "    n = len(observations_t)\n",
    "    W = np.empty((n,m))\n",
    "    for i, obs in enumerate(observations_t):\n",
    "        for j, land in enumerate(landmarks):\n",
    "            d = lp2lc(obs) - g2lc(land['mu'], robot_t)\n",
    "            L = Lj(land, obs, robot_t)\n",
    "            W[i][j] = 1 / np.sqrt(2*np.pi*LA.det(L)) * np.exp(-(d.T @ LA.inv(L) @ d)/2)\n",
    "        \n",
    "    return W\n",
    "\n",
    "def attribute_landmarks(W, observations_t, robot_t):\n",
    "    c = []\n",
    "    new_landmarks = []\n",
    "    n, m = W.shape\n",
    "    while True:\n",
    "        i,j = np.unravel_index(np.argmax(W), W.shape)\n",
    "        max_W = np.max(W)\n",
    "        if max_W == -1:\n",
    "            break\n",
    "        elif max_W >= alpha:\n",
    "            c.append({'observation':i, 'landmark': j, 'weight': max_W})\n",
    "            W[i,:] = -1\n",
    "            W[:,j] = -1\n",
    "        else:\n",
    "            #create new landmark\n",
    "            obs = observations_t[i]\n",
    "            initial_mu = lc2g(lp2lc(obs), robot_t)\n",
    "            initial_sigma = Q_lc2g(robot_t[2], Q_lp2lc(obs))\n",
    "            new_landmarks.append({'mu':initial_mu, 'sigma':initial_sigma})\n",
    "            c.append({'observation':i, 'landmark': m+len(new_landmarks)-1, 'weight': alpha})\n",
    "            W[i,:] = -1\n",
    "    return c, new_landmarks"
   ]
  },
  {
   "cell_type": "code",
   "execution_count": 9,
   "id": "8de8351e-f268-4c37-8882-787870bf184d",
   "metadata": {},
   "outputs": [],
   "source": [
    "z1 = [3, 0]\n",
    "z2 = [4, -0.646] \n",
    "z3 = [np.sqrt(2), np.pi/8]\n",
    "Z = [z1,z2,z3]\n",
    "Z = np.array(Z)\n",
    "robot_t = np.array([4, 3, -np.pi/2])\n",
    "landmarks = [\n",
    "    [[2,1], [[1/9,0],\n",
    "             [0,1.]]],\n",
    "    [[3,-1], [[5/9,4/9],\n",
    "              [5/9,4/8.]]],\n",
    "    [[5/2,2], [[1/9,0],\n",
    "             [0,1.]]],    \n",
    "]\n",
    "landmarks = [{'mu':np.array(l[0]), 'sigma':np.array(l[1])} for l in landmarks]"
   ]
  },
  {
   "cell_type": "code",
   "execution_count": 10,
   "id": "05f342e1-c7ed-47fe-9377-c8798a1139de",
   "metadata": {},
   "outputs": [],
   "source": [
    "weight_matrix = W(Z, landmarks, robot_t)\n",
    "c, new_landmarks = attribute_landmarks(weight_matrix, Z, robot_t)\n",
    "landmarks = landmarks + new_landmarks"
   ]
  },
  {
   "cell_type": "code",
   "execution_count": 11,
   "id": "cc70be5a-0004-4899-a1c2-3383944d4113",
   "metadata": {},
   "outputs": [
    {
     "data": {
      "text/plain": [
       "[{'observation': 0, 'landmark': 1, 'weight': 0.5922766415312831},\n",
       " {'observation': 1, 'landmark': 0, 'weight': 0.30677578739611505},\n",
       " {'observation': 2, 'landmark': 3, 'weight': 0.05}]"
      ]
     },
     "execution_count": 11,
     "metadata": {},
     "output_type": "execute_result"
    }
   ],
   "source": [
    "c"
   ]
  },
  {
   "cell_type": "code",
   "execution_count": 12,
   "id": "a1879a20-eda4-4541-8bb4-5bacb193eba7",
   "metadata": {},
   "outputs": [
    {
     "name": "stdout",
     "output_type": "stream",
     "text": [
      "Mapa atualizado\n",
      "Landmark 0\n",
      "mu: [2 1]\n",
      "sigma: [[0.11111111 0.        ]\n",
      " [0.         1.        ]]\n",
      "Landmark 1\n",
      "mu: [ 3 -1]\n",
      "sigma: [[0.55555556 0.44444444]\n",
      " [0.55555556 0.5       ]]\n",
      "Landmark 2\n",
      "mu: [2.5 2. ]\n",
      "sigma: [[0.11111111 0.        ]\n",
      " [0.         1.        ]]\n",
      "Landmark 3\n",
      "mu: [[4.5411961 ]\n",
      " [1.69343704]]\n",
      "sigma: [[ 0.01239805 -0.02075291]\n",
      " [-0.02075291  0.05390387]]\n"
     ]
    }
   ],
   "source": [
    "print('Mapa atualizado')\n",
    "for i, l in enumerate(landmarks):\n",
    "    print(f'Landmark {i}')\n",
    "    print(f'mu: {l[\"mu\"]}')\n",
    "    print(f'sigma: {l[\"sigma\"]}')"
   ]
  },
  {
   "cell_type": "code",
   "execution_count": 13,
   "id": "865e12c0-8e25-426a-845e-2aeba26d573c",
   "metadata": {},
   "outputs": [
    {
     "name": "stdout",
     "output_type": "stream",
     "text": [
      "Peso total: 0.009084806653104299\n"
     ]
    }
   ],
   "source": [
    "total_weight = 1\n",
    "for el in c:\n",
    "    total_weight *= el['weight']\n",
    "print(f'Peso total: {total_weight}')"
   ]
  },
  {
   "cell_type": "markdown",
   "id": "c43e8555-2dff-4d6a-a788-1d0bc68efef9",
   "metadata": {},
   "source": [
    "## Questão 6"
   ]
  },
  {
   "cell_type": "code",
   "execution_count": 15,
   "id": "c79c315d-4355-49c8-94e5-d29b439b24f4",
   "metadata": {},
   "outputs": [],
   "source": [
    "import pandas as pd"
   ]
  },
  {
   "cell_type": "code",
   "execution_count": 25,
   "id": "35c72c43-12d0-43e6-ad2d-39efbfc81c14",
   "metadata": {},
   "outputs": [],
   "source": [
    "data = pd.read_csv('./data/valoresEP2.csv', usecols=np.arange(14), header=None).to_numpy()\n",
    "control_hist = data[:,:2]\n",
    "observations = data[:,2:]"
   ]
  },
  {
   "cell_type": "code",
   "execution_count": 30,
   "id": "1bb22036-3f5f-4464-81fb-8755ccc51cde",
   "metadata": {},
   "outputs": [],
   "source": [
    "def F(X_prev: np.array, u_prev: np.array, dt=1) -> np.array:\n",
    "    '''\n",
    "    Calculada analiticamente.\n",
    "    '''\n",
    "    l = 0.3\n",
    "    return np.array([\n",
    "        X_prev[0] + u_prev[0] * np.cos(u_prev[1]) *  np.cos(X_prev[2]) * dt,\n",
    "        X_prev[1] + u_prev[0] * np.cos(u_prev[1]) *  np.sin(X_prev[2]) * dt,\n",
    "        X_prev[2] + u_prev[0] * dt * np.tan(u_prev[1])/ l\n",
    "    ])"
   ]
  },
  {
   "cell_type": "code",
   "execution_count": 31,
   "id": "2a836594-0621-4c5c-84a4-db74dbe0700d",
   "metadata": {},
   "outputs": [],
   "source": [
    "X = [[0,0,0]]\n",
    "for i, u in enumerate(control_hist):\n",
    "    X.append(F(X[-1], u))"
   ]
  },
  {
   "cell_type": "code",
   "execution_count": 34,
   "id": "4e8c027d-3072-4aa4-b953-0fa1136a84b1",
   "metadata": {},
   "outputs": [],
   "source": [
    "import matplotlib.pyplot as plt"
   ]
  },
  {
   "cell_type": "code",
   "execution_count": 38,
   "id": "4319a1ad-a150-4a71-81a6-73bb90f8bfd1",
   "metadata": {},
   "outputs": [],
   "source": [
    "X = np.array(X)"
   ]
  },
  {
   "cell_type": "code",
   "execution_count": 39,
   "id": "427f18a6-621e-4323-addf-73a9f0ba3b4c",
   "metadata": {},
   "outputs": [
    {
     "data": {
      "image/png": "[encoded data removed]",
      "text/plain": [
       "<Figure size 432x288 with 1 Axes>"
      ]
     },
     "metadata": {
      "needs_background": "light"
     },
     "output_type": "display_data"
    }
   ],
   "source": [
    "plt.plot(X[:,0], X[:,1])\n",
    "plt.ylabel('Coordenada em y')\n",
    "plt.xlabel('Coordenada em x')\n",
    "plt.title(r'Coordenadas (x,y) percorridas pelo robô - $t_f=250s$', fontsize=13)\n",
    "plt.savefig('./images/caminhoQ4.png', dpi=600)\n",
    "plt.show()"
   ]
  },
  {
   "cell_type": "code",
   "execution_count": null,
   "id": "94418946-293e-4a68-92f2-ce65f2d2fd3c",
   "metadata": {},
   "outputs": [],
   "source": [
    "def previsao(df_robot : pd.DataFrame,\n",
    "             mi_inicial : np.array,\n",
    "             sigma_inicial : np.array,\n",
    "             tempo_final : int,\n",
    "             dt : float,\n",
    "             l : float) -> (np.array, np.array, np.array, np.array, np.array, np.array)    :\n",
    "    \"\"\"\n",
    "    Realiza o procedimento do filtro de Kalman para cálculo de estimativas sem considerar medições, \n",
    "    ou seja, mi = mi_barra e sigma = sigma_barra\n",
    "\n",
    "    Args:\n",
    "        df_robot (pd.DataFrame): dataframe que contém os dados do robô\n",
    "        mi_inicial (np.array): matriz mi para o instante de tempo inicial\n",
    "        sigma_inicial (np.array): matriz sigma para o instante de tempo inicial\n",
    "        tempo_final (int): instante de tempo final em segundo\n",
    "        dt (float): passo de iteração\n",
    "        l (float): distância entre eixos do veículo\n",
    "\n",
    "    Returns:\n",
    "        x (np.array): vetor com coordenada x ao longo das iterações\n",
    "        y (np.array): vetor com coordenada y ao longo das iterações\n",
    "        theta (np.array): vetor com ângulo theta do robô com a horizontal ao longo das iterações\n",
    "        fx (np.array): vetor com campo magnético local na coordenada x ao longo das iterações\n",
    "        fx (np.array): vetor com campo magnético local na coordenada y ao longo das iterações\n",
    "        sigma (np.array): matriz sigma no instante tempo_final\n",
    "    \"\"\"\n",
    "    # Quantidade de iterações\n",
    "    it = int(tempo_final / dt)\n",
    "    # Estabelecendo variáveis\n",
    "    x = np.append(np.array(mi_inicial.T[0]), np.zeros(it).T)\n",
    "    y = np.append(np.array(mi_inicial.T[1]), np.zeros(it).T)\n",
    "    theta = np.append(np.array(mi_inicial.T[2]), np.zeros(it).T)\n",
    "    fx = np.append(np.array(mi_inicial.T[3]), np.zeros(it).T)\n",
    "    fy = np.append(np.array(mi_inicial.T[4]), np.zeros(it).T)\n",
    "    v = np.array(df_robot['velocidade'])\n",
    "    phi = np.array(df_robot['phi'])\n",
    "    tempo = 0\n",
    "\n",
    "    # Transpondo mi e mi_barra para o python tratar melhor\n",
    "    mi = np.append(np.array([mi_inicial.T]), np.zeros((5, it)).T, axis=0)\n",
    "    sigma = sigma_inicial\n",
    "\n",
    "    for t in range(1, it + 1):\n",
    "        # Calculando mi e mi_barra\n",
    "        F = mi[t-1] + [v[t-1]*np.cos(theta[t-1])*dt, \n",
    "                          v[t-1]*np.sin(theta[t-1])*dt, \n",
    "                          (v[t-1]*np.tan(phi[t-1])*dt) / l, \n",
    "                          0, \n",
    "                          0]\n",
    "\n",
    "        # Adicionando novo estado para e mi\n",
    "        mi[t] = F\n",
    "        \n",
    "        # Separando componentes de mi_barra / mi\n",
    "        x[t] = mi[t][0]\n",
    "        y[t] = mi[t][1]\n",
    "        theta[t] = mi[t][2]\n",
    "        fx[t] = mi[t][3]\n",
    "        fy[t] = mi[t][4]\n",
    "\n",
    "        tempo += dt\n",
    "        \n",
    "        if tempo == tempo_final:\n",
    "            print(f\"Sigma no instante {tempo}: {sigma}\")\n",
    "\n",
    "    return x, y, theta"
   ]
  }
 ],
 "metadata": {
  "kernelspec": {
   "display_name": "Python 3",
   "language": "python",
   "name": "python3"
  },
  "language_info": {
   "codemirror_mode": {
    "name": "ipython",
    "version": 3
   },
   "file_extension": ".py",
   "mimetype": "text/x-python",
   "name": "python",
   "nbconvert_exporter": "python",
   "pygments_lexer": "ipython3",
   "version": "3.8.8"
  }
 },
 "nbformat": 4,
 "nbformat_minor": 5
}
